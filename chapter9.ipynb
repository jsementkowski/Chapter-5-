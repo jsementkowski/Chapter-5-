{
  "nbformat": 4,
  "nbformat_minor": 0,
  "metadata": {
    "colab": {
      "provenance": [],
      "authorship_tag": "ABX9TyMGv6W4eE3jgJr72Og+eN/2",
      "include_colab_link": true
    },
    "kernelspec": {
      "name": "python3",
      "display_name": "Python 3"
    },
    "language_info": {
      "name": "python"
    }
  },
  "cells": [
    {
      "cell_type": "markdown",
      "metadata": {
        "id": "view-in-github",
        "colab_type": "text"
      },
      "source": [
        "<a href=\"https://colab.research.google.com/github/jsementkowski/Chapter-5-/blob/main/chapter9.ipynb\" target=\"_parent\"><img src=\"https://colab.research.google.com/assets/colab-badge.svg\" alt=\"Open In Colab\"/></a>"
      ]
    },
    {
      "cell_type": "code",
      "execution_count": 40,
      "metadata": {
        "colab": {
          "base_uri": "https://localhost:8080/",
          "height": 140
        },
        "id": "LI3jsQWdfn8g",
        "outputId": "47fb2697-3ae3-46f5-c30a-cf003157b6e0"
      },
      "outputs": [
        {
          "output_type": "error",
          "ename": "SyntaxError",
          "evalue": "ignored",
          "traceback": [
            "\u001b[0;36m  File \u001b[0;32m\"<ipython-input-40-64ca1a3d64aa>\"\u001b[0;36m, line \u001b[0;32m63\u001b[0m\n\u001b[0;31m    \u001b[0m\n\u001b[0m    ^\u001b[0m\n\u001b[0;31mSyntaxError\u001b[0m\u001b[0;31m:\u001b[0m incomplete input\n"
          ]
        }
      ],
      "source": [
        "#import the pickle to convert object into byte.\n",
        "import pickle\n",
        "\n",
        "#store in a file\n",
        "\n",
        "def load_data(file_path):\n",
        "  try:\n",
        "    with open(file_path, 'rb')as file:\n",
        "        data = pickle.load(file)\n",
        "\n",
        "    #return the data\n",
        "    return data\n",
        "\n",
        "  except FileNotFoundError:\n",
        "    return {}\n",
        "\n",
        "  except Exception as e:\n",
        "    print(f\"An error occurred while loading data: {e}\")\n",
        "    return {}\n",
        "\n",
        "def save_data(data, file_path):\n",
        "    try:\n",
        "      with open(file_path, 'wb')as file:\n",
        "        pickle.dump(data, file)\n",
        "      print(f\"Data saved to '{file_path}'.\")\n",
        "\n",
        "    except Exception as e:\n",
        "        print(\"An error occurred while saving data: {e}\")\n",
        "\n",
        "#display the menu it asks in the book\n",
        "def display_menu():\n",
        "  print(\"/nMenu:\")\n",
        "  print(\"1. Look up email address\")\n",
        "  print(\"2. Add new name and email address\")\n",
        "  print(\"3. Change existing email address\")\n",
        "  print(\"4. Delete existing name and email address\")\n",
        "  print(\"5. Exit\")\n",
        "\n",
        "#define all in the money\n",
        "\n",
        "def look_email(data):\n",
        "  name = input(\"Enter the name to look up: \")\n",
        "  email = data.get(name, \"Name not found\")\n",
        "  print(f\"Email address for {name}: {email}\")\n",
        "\n",
        "def new_entry(data):\n",
        "  name = input(\"Enter the new name: \")\n",
        "  email = input(\"Enter the email address: \")\n",
        "  data[name] = email\n",
        "  print(f\"{name}'s email address added successfully.\")\n",
        "\n",
        "def change_email(data):\n",
        "  name = input(\"Enter the name for which you want to change the email address: \")\n",
        "  if name in data:\n",
        "\n",
        "\n",
        "\n",
        "\n",
        "\n",
        "\n",
        "\n",
        "\n",
        "\n",
        "\n"
      ]
    },
    {
      "cell_type": "code",
      "source": [],
      "metadata": {
        "id": "KGIwgpC5pZPm"
      },
      "execution_count": null,
      "outputs": []
    }
  ]
}