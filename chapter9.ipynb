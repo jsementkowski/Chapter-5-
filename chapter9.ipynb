{
  "nbformat": 4,
  "nbformat_minor": 0,
  "metadata": {
    "colab": {
      "provenance": [],
      "authorship_tag": "ABX9TyOAkIfHGBP26YduDXlkw1F0",
      "include_colab_link": true
    },
    "kernelspec": {
      "name": "python3",
      "display_name": "Python 3"
    },
    "language_info": {
      "name": "python"
    }
  },
  "cells": [
    {
      "cell_type": "markdown",
      "metadata": {
        "id": "view-in-github",
        "colab_type": "text"
      },
      "source": [
        "<a href=\"https://colab.research.google.com/github/jsementkowski/Chapter-5-/blob/main/chapter9.ipynb\" target=\"_parent\"><img src=\"https://colab.research.google.com/assets/colab-badge.svg\" alt=\"Open In Colab\"/></a>"
      ]
    },
    {
      "cell_type": "code",
      "execution_count": 10,
      "metadata": {
        "id": "LI3jsQWdfn8g"
      },
      "outputs": [],
      "source": [
        "#import the pickle to convert object into byte.\n",
        "import pickle\n",
        "\n",
        "#store in a file\n",
        "\n",
        "def load_data(file_path):\n",
        "  try:\n",
        "    with open(file_path, 'rb')as file:\n",
        "        data = pickle.load(file)\n",
        "\n",
        "    #return the data\n",
        "    return data\n",
        "\n",
        "  except FileNotFoundError:\n",
        "    return {}\n"
      ]
    }
  ]
}