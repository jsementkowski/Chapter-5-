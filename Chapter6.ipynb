{
  "nbformat": 4,
  "nbformat_minor": 0,
  "metadata": {
    "colab": {
      "provenance": [],
      "authorship_tag": "ABX9TyMB+ShhqXXGW0u5Zt4Vtlit",
      "include_colab_link": true
    },
    "kernelspec": {
      "name": "python3",
      "display_name": "Python 3"
    },
    "language_info": {
      "name": "python"
    }
  },
  "cells": [
    {
      "cell_type": "markdown",
      "metadata": {
        "id": "view-in-github",
        "colab_type": "text"
      },
      "source": [
        "<a href=\"https://colab.research.google.com/github/jsementkowski/Chapter-5-/blob/main/Chapter6.ipynb\" target=\"_parent\"><img src=\"https://colab.research.google.com/assets/colab-badge.svg\" alt=\"Open In Colab\"/></a>"
      ]
    },
    {
      "cell_type": "markdown",
      "source": [
        "**Chapter 6: Files and Exceptions**\n",
        "\n",
        "\n",
        "Jenna Sementkowski"
      ],
      "metadata": {
        "id": "YkUdQ6aHLHAR"
      }
    },
    {
      "cell_type": "markdown",
      "source": [
        "***Algorithm Workbench***"
      ],
      "metadata": {
        "id": "yUP33qqjLoMI"
      }
    },
    {
      "cell_type": "markdown",
      "source": [
        "Question 1:\n",
        "\n",
        "\n",
        "*   Write a program that opens an output file with the filename my_name.txt.\n",
        "*   Writes your name to the file, then closes the file.\n",
        "\n",
        "\n",
        "\n"
      ],
      "metadata": {
        "id": "zTEzPw0aLsVl"
      }
    },
    {
      "cell_type": "code",
      "source": [
        "#assign the filename for the output file\n",
        "file = \"output.txt\"\n",
        "\n",
        "#assign my name to print in the file\n",
        "name = \"Jenna\"\n",
        "\n",
        "#open the file in write mode 'w'\n",
        "try:\n",
        "  with open (file, 'w') as filename:\n",
        "\n",
        "#add my name to the file.\n",
        "    file.write(name)\n",
        "\n",
        "#This code is incorrect. I got lost in my though and wanted to restart below.\n",
        "\n"
      ],
      "metadata": {
        "colab": {
          "base_uri": "https://localhost:8080/",
          "height": 140
        },
        "id": "BjR1vcRhMIgk",
        "outputId": "c7f4bafa-ca8b-4824-c346-687af8a24749"
      },
      "execution_count": null,
      "outputs": [
        {
          "output_type": "error",
          "ename": "SyntaxError",
          "evalue": "ignored",
          "traceback": [
            "\u001b[0;36m  File \u001b[0;32m\"<ipython-input-7-5c5bc0b66572>\"\u001b[0;36m, line \u001b[0;32m12\u001b[0m\n\u001b[0;31m    file.write(name)\u001b[0m\n\u001b[0m                    ^\u001b[0m\n\u001b[0;31mSyntaxError\u001b[0m\u001b[0;31m:\u001b[0m incomplete input\n"
          ]
        }
      ]
    },
    {
      "cell_type": "markdown",
      "source": [
        "**Correct Code for Question 1:**"
      ],
      "metadata": {
        "id": "GHFEx5oMRH3_"
      }
    },
    {
      "cell_type": "code",
      "source": [
        "# Define the filename for the output file\n",
        "filename = \"output.txt\"\n",
        "\n",
        "# assign my name to the file\n",
        "your_name = \"Jenna\"\n",
        "\n",
        "try:\n",
        "    # Open the file in write mode ('w')\n",
        "    with open(filename, 'w') as file:\n",
        "        # Write your name to the file\n",
        "        file.write(your_name)\n",
        "\n",
        "    # Display a success message\n",
        "    print(f\"Successfully wrote Jenna to {filename}\")\n",
        "except IOError:\n",
        "    # Handle any errors and display an error message\n",
        "    print(f\"Error: Could not write to {filename}\")\n",
        "\n",
        "#used chat gpt as a reference to see how to add the errors at the bottom of the code, as this is needed in the next problems\n"
      ],
      "metadata": {
        "colab": {
          "base_uri": "https://localhost:8080/"
        },
        "id": "2ZlcTSi_OZj6",
        "outputId": "2c38a974-70d8-4baf-a65f-17939a2f4066"
      },
      "execution_count": null,
      "outputs": [
        {
          "output_type": "stream",
          "name": "stdout",
          "text": [
            "Successfully wrote Jenna to output.txt\n"
          ]
        }
      ]
    },
    {
      "cell_type": "markdown",
      "source": [
        "Question 3:\n",
        "\n",
        "*   Write a code that does the following: opens an output file with the file name number_list.txt.\n",
        "*   That uses a loop to write the numbers 1 through 100 to the file, then closes the file.\n",
        "*   I am going to use some of my code from problem 1 to help guide me with the set up of this problem, adding the range and closing the file.\n"
      ],
      "metadata": {
        "id": "W-O6crhrRUfO"
      }
    },
    {
      "cell_type": "code",
      "source": [
        "#Define the filename for the output file\n",
        "filename = \"numbers.txt\"\n",
        "\n",
        "#I copied and pasted this from problem one and edited it to be numbered in the range given\n",
        "try:\n",
        "    # Open the file in write mode ('w')\n",
        "    with open(filename, 'w') as file:\n",
        "        # Use a loop to write numbers from 1 to 100 to the file\n",
        "        for i in range(1, 101):\n",
        "            file.write(str(i) + '\\n')\n",
        "\n",
        "    #print the the success message\n",
        "    print(f\"Successfully wrote numbers 1 through 100 to {filename}\")\n",
        "\n",
        "    #added this in from chat gpt from the last problem and just edited it\n",
        "except IOError:\n",
        "    # Handle any errors and display an error message\n",
        "    print(f\"Error: Could not write to {filename}\")\n",
        "\n",
        "#closing the file\n",
        "    file.close()\n",
        "\n",
        "\n",
        "#This print out the numbers in the range through 1 to 100\n"
      ],
      "metadata": {
        "colab": {
          "base_uri": "https://localhost:8080/"
        },
        "id": "Yi6Gek4uSSH9",
        "outputId": "ba127428-cc1e-468d-ff50-1c52bbb072f5"
      },
      "execution_count": 19,
      "outputs": [
        {
          "output_type": "stream",
          "name": "stdout",
          "text": [
            "Successfully wrote numbers 1 through 100 to numbers.txt\n"
          ]
        }
      ]
    },
    {
      "cell_type": "markdown",
      "source": [
        "***Programming Exercises***"
      ],
      "metadata": {
        "id": "sWrBFJvLVihl"
      }
    },
    {
      "cell_type": "markdown",
      "source": [
        "Question 1:\n",
        "\n",
        "\n",
        "*  Assume a file containing a series of integers is named numbers.txt and exists on the computer's disk.\n",
        "*   Write a program that displays all of the numbers in the file.\n",
        "\n"
      ],
      "metadata": {
        "id": "MfimSoYkVrZS"
      }
    },
    {
      "cell_type": "code",
      "source": [
        "#Define the filename of the input file\n",
        "filename = \"input_numbers.txt\"\n",
        "\n",
        "try:\n",
        "    # Open the file in read mode ('r')\n",
        "    with open(filename, 'r') as file:\n",
        "\n",
        "        # Read and display the numbers from the file\n",
        "        for line in file:\n",
        "            number = line.strip()\n",
        "            # Remove any leading/trailing whitespace\n",
        "            if number.isdigit():\n",
        "                print(int(number))\n",
        "\n",
        "    # Close the file\n",
        "\n",
        "    file.close()\n",
        "except FileNotFoundError:\n",
        "\n",
        "    # Handle the case where the file does not exist\n",
        "    print(f\"Error: The file '{filename}' does not exist.\")\n",
        "\n",
        "except IOError:\n",
        "\n",
        "\n",
        "    # Handle other I/O errors\n",
        "    print(f\"Error: Could not read from '{filename}'.\")\n",
        "\n",
        "#I cannot figure out how to get it to print the integers.\n",
        "\n",
        "#But I think this code runs properly"
      ],
      "metadata": {
        "colab": {
          "base_uri": "https://localhost:8080/"
        },
        "id": "DENOxTAoWWUZ",
        "outputId": "e0dbcb2b-bd4c-4901-90e9-ef4885a78eda"
      },
      "execution_count": 28,
      "outputs": [
        {
          "output_type": "stream",
          "name": "stdout",
          "text": [
            "Error: The file 'input_numbers.txt' does not exist.\n"
          ]
        }
      ]
    },
    {
      "cell_type": "markdown",
      "source": [
        "Question 6:\n",
        "\n",
        "\n",
        "*   Assume a file containing a series of integers named numbers.txt and exists on the computer's disk.\n",
        "*   Write a program that calculates the average of all the numbers stored in the file.\n",
        "\n"
      ],
      "metadata": {
        "id": "hi9fQ9wfX1NM"
      }
    },
    {
      "cell_type": "code",
      "source": [
        "# Prompt the user for the file name\n",
        "file_name = input(\"Enter the name of the file: \")\n",
        "\n",
        "try:\n",
        "    # Open the file for reading\n",
        "    with open(file_name, 'r') as file:\n",
        "        # Read the first five lines or all lines if there are less than five\n",
        "        lines = file.readlines()\n",
        "        for i in range(min(5, len(lines))):\n",
        "            print(lines[i], end='')\n",
        "\n",
        "#used from chat gpt because I was not sure how to add the error in.\n",
        "except FileNotFoundError:\n",
        "\n",
        "    #print that the file does not exist\n",
        "    print(f\"The file '{file_name}' does not exist.\")\n",
        "\n",
        "except Exception as e:\n",
        "    print(f\"An error occurred: {e}\")\n",
        "\n",
        "#when you enter in the file name numbers.txt it prints out the integers\n"
      ],
      "metadata": {
        "colab": {
          "base_uri": "https://localhost:8080/"
        },
        "id": "iEVYMj59YUUA",
        "outputId": "ea59b68d-13b3-47bd-82cb-3d0c9e04d447"
      },
      "execution_count": 31,
      "outputs": [
        {
          "output_type": "stream",
          "name": "stdout",
          "text": [
            "Enter the name of the file: numbers.txt\n",
            "1\n",
            "2\n",
            "3\n",
            "4\n",
            "5\n"
          ]
        }
      ]
    },
    {
      "cell_type": "markdown",
      "source": [
        "Question 9:\n",
        "\n",
        "\n",
        "*  Modify the program that i wrote in question 6 so it handles the following exceptions:\n",
        "*  It should handle any IOEError for exceptions that are raised when the file is opened and data is read from it.\n",
        "*  It should handle any ValueError exeptions that are raised when the items that are red from the file are converted to a number."
      ],
      "metadata": {
        "id": "2NAjvaMtY_Sl"
      }
    },
    {
      "cell_type": "code",
      "source": [
        "# Prompt the user for the file name\n",
        "file_name = input(\"Enter the name of the file: \")\n",
        "\n",
        "try:\n",
        "    # Open the file for reading\n",
        "    with open(file_name, 'r') as file:\n",
        "        lines = file.readlines()\n",
        "        for i, line in enumerate(lines):\n",
        "            try:\n",
        "                # Attempt to convert each line to a number\n",
        "                number = float(line)\n",
        "                print(f\"Line {i + 1}: {number}\")\n",
        "\n",
        "                #use the ValueError\n",
        "            except ValueError:\n",
        "                print(f\"Line {i + 1}: (Not a valid number)\")\n",
        "\n",
        "                #print file not found\n",
        "except FileNotFoundError:\n",
        "    print(f\"The file '{file_name}' does not exist.\")\n",
        "\n",
        "    #copied and pasted from the code above\n",
        "except Exception as e:\n",
        "    print(f\"An error occurred: {e}\")\n",
        "\n",
        "    # I copied and pasted a lot of this code from question 6 and edited like asked\n",
        "\n",
        "\n",
        "#prints the in lines and adds the intgers properly"
      ],
      "metadata": {
        "colab": {
          "base_uri": "https://localhost:8080/"
        },
        "id": "E4tVY6iYZo-U",
        "outputId": "7f670f06-b842-4db6-f794-0613516ec561"
      },
      "execution_count": 32,
      "outputs": [
        {
          "output_type": "stream",
          "name": "stdout",
          "text": [
            "Enter the name of the file: numbers.txt\n",
            "Line 1: 1.0\n",
            "Line 2: 2.0\n",
            "Line 3: 3.0\n",
            "Line 4: 4.0\n",
            "Line 5: 5.0\n",
            "Line 6: 6.0\n",
            "Line 7: 7.0\n",
            "Line 8: 8.0\n",
            "Line 9: 9.0\n",
            "Line 10: 10.0\n",
            "Line 11: 11.0\n",
            "Line 12: 12.0\n",
            "Line 13: 13.0\n",
            "Line 14: 14.0\n",
            "Line 15: 15.0\n",
            "Line 16: 16.0\n",
            "Line 17: 17.0\n",
            "Line 18: 18.0\n",
            "Line 19: 19.0\n",
            "Line 20: 20.0\n",
            "Line 21: 21.0\n",
            "Line 22: 22.0\n",
            "Line 23: 23.0\n",
            "Line 24: 24.0\n",
            "Line 25: 25.0\n",
            "Line 26: 26.0\n",
            "Line 27: 27.0\n",
            "Line 28: 28.0\n",
            "Line 29: 29.0\n",
            "Line 30: 30.0\n",
            "Line 31: 31.0\n",
            "Line 32: 32.0\n",
            "Line 33: 33.0\n",
            "Line 34: 34.0\n",
            "Line 35: 35.0\n",
            "Line 36: 36.0\n",
            "Line 37: 37.0\n",
            "Line 38: 38.0\n",
            "Line 39: 39.0\n",
            "Line 40: 40.0\n",
            "Line 41: 41.0\n",
            "Line 42: 42.0\n",
            "Line 43: 43.0\n",
            "Line 44: 44.0\n",
            "Line 45: 45.0\n",
            "Line 46: 46.0\n",
            "Line 47: 47.0\n",
            "Line 48: 48.0\n",
            "Line 49: 49.0\n",
            "Line 50: 50.0\n",
            "Line 51: 51.0\n",
            "Line 52: 52.0\n",
            "Line 53: 53.0\n",
            "Line 54: 54.0\n",
            "Line 55: 55.0\n",
            "Line 56: 56.0\n",
            "Line 57: 57.0\n",
            "Line 58: 58.0\n",
            "Line 59: 59.0\n",
            "Line 60: 60.0\n",
            "Line 61: 61.0\n",
            "Line 62: 62.0\n",
            "Line 63: 63.0\n",
            "Line 64: 64.0\n",
            "Line 65: 65.0\n",
            "Line 66: 66.0\n",
            "Line 67: 67.0\n",
            "Line 68: 68.0\n",
            "Line 69: 69.0\n",
            "Line 70: 70.0\n",
            "Line 71: 71.0\n",
            "Line 72: 72.0\n",
            "Line 73: 73.0\n",
            "Line 74: 74.0\n",
            "Line 75: 75.0\n",
            "Line 76: 76.0\n",
            "Line 77: 77.0\n",
            "Line 78: 78.0\n",
            "Line 79: 79.0\n",
            "Line 80: 80.0\n",
            "Line 81: 81.0\n",
            "Line 82: 82.0\n",
            "Line 83: 83.0\n",
            "Line 84: 84.0\n",
            "Line 85: 85.0\n",
            "Line 86: 86.0\n",
            "Line 87: 87.0\n",
            "Line 88: 88.0\n",
            "Line 89: 89.0\n",
            "Line 90: 90.0\n",
            "Line 91: 91.0\n",
            "Line 92: 92.0\n",
            "Line 93: 93.0\n",
            "Line 94: 94.0\n",
            "Line 95: 95.0\n",
            "Line 96: 96.0\n",
            "Line 97: 97.0\n",
            "Line 98: 98.0\n",
            "Line 99: 99.0\n",
            "Line 100: 100.0\n"
          ]
        }
      ]
    },
    {
      "cell_type": "markdown",
      "source": [
        "Question 7:\n",
        "\n",
        "\n",
        "*  Write the program that writes a series of numbers to a file.\n",
        "*  Each random number should be in the range of 1 through 500.\n",
        "*  The application should let the user specify how many random numbers the file will hold.\n",
        "\n",
        "\n",
        "\n",
        "\n"
      ],
      "metadata": {
        "id": "YOYO__hlbaMl"
      }
    },
    {
      "cell_type": "code",
      "source": [
        "#import random\n",
        "import random\n",
        "\n",
        "# Prompt the user for the number of random numbers to generate\n",
        "try:\n",
        "    num_of_random_numbers = int(input(\"Enter the number of random numbers to generate: \"))\n",
        "\n",
        "    # Prompt the user for the file name to write the random numbers\n",
        "    file_name = input(\"Enter the name of the file to save the random numbers: \")\n",
        "\n",
        "#create loop\n",
        "    with open(file_name, 'w') as file:\n",
        "        for _ in range(num_of_random_numbers):\n",
        "            random_number = random.randint(1, 500)\n",
        "            file.write(str(random_number) + \"\\n\")\n",
        "\n",
        "    print(f\"{num_of_random_numbers} random numbers have been written to '{file_name}'.\")\n",
        "\n",
        "#still used from my previous coding in other questions.\n",
        "except ValueError:\n",
        "    print(\"Invalid input. Please enter a valid number of random numbers.\")\n",
        "except Exception as e:\n",
        "    print(f\"An error occurred: {e}\")\n",
        "\n",
        "\n"
      ],
      "metadata": {
        "id": "md1nyQrYcAbS"
      },
      "execution_count": null,
      "outputs": []
    }
  ]
}