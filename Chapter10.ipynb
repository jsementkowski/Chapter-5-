{
  "nbformat": 4,
  "nbformat_minor": 0,
  "metadata": {
    "colab": {
      "provenance": [],
      "authorship_tag": "ABX9TyNfELnVcr5GeIyR4Tfe/1TK",
      "include_colab_link": true
    },
    "kernelspec": {
      "name": "python3",
      "display_name": "Python 3"
    },
    "language_info": {
      "name": "python"
    }
  },
  "cells": [
    {
      "cell_type": "markdown",
      "metadata": {
        "id": "view-in-github",
        "colab_type": "text"
      },
      "source": [
        "<a href=\"https://colab.research.google.com/github/jsementkowski/Chapter-5-/blob/main/Chapter10.ipynb\" target=\"_parent\"><img src=\"https://colab.research.google.com/assets/colab-badge.svg\" alt=\"Open In Colab\"/></a>"
      ]
    },
    {
      "cell_type": "markdown",
      "source": [
        "**Chapter 10: Classes and Object-Oriented Programming**\n",
        "\n",
        "Jenna Sementkowski"
      ],
      "metadata": {
        "id": "VRh1QG8cvuFo"
      }
    },
    {
      "cell_type": "markdown",
      "source": [
        "***Programming Exercises***"
      ],
      "metadata": {
        "id": "8rcnPj2HwCEA"
      }
    },
    {
      "cell_type": "markdown",
      "source": [
        "Question 3:\n",
        "\n",
        "\n",
        "*  Asks us to design a class that holds the following personal data: name, address, age, and phone number. Write appropriate accessor and mutator methods.\n",
        "*   Also, write a program that creates 3 instances of the class. Using fake information.\n",
        "\n"
      ],
      "metadata": {
        "id": "jFC3WrQ8wcDp"
      }
    },
    {
      "cell_type": "code",
      "source": [
        "#define the person class\n",
        "class Person:\n",
        "  def __init__(self, name, address, age, phone_number):\n",
        "    self._name = name\n",
        "    self._address = address\n",
        "    self._age = age\n",
        "    self._phone_number = phone_number\n",
        "\n",
        "    #now we enter in our accessor methods for each\n",
        "    def get_name(self):\n",
        "      return self._name\n",
        "\n",
        ""
      ],
      "metadata": {
        "id": "tqYBBjzSxETR"
      },
      "execution_count": 3,
      "outputs": []
    }
  ]
}