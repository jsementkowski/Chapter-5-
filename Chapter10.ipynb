{
  "nbformat": 4,
  "nbformat_minor": 0,
  "metadata": {
    "colab": {
      "provenance": [],
      "authorship_tag": "ABX9TyMZ/bFOtO4I6XD9NB51WeMY",
      "include_colab_link": true
    },
    "kernelspec": {
      "name": "python3",
      "display_name": "Python 3"
    },
    "language_info": {
      "name": "python"
    }
  },
  "cells": [
    {
      "cell_type": "markdown",
      "metadata": {
        "id": "view-in-github",
        "colab_type": "text"
      },
      "source": [
        "<a href=\"https://colab.research.google.com/github/jsementkowski/Chapter-5-/blob/main/Chapter10.ipynb\" target=\"_parent\"><img src=\"https://colab.research.google.com/assets/colab-badge.svg\" alt=\"Open In Colab\"/></a>"
      ]
    },
    {
      "cell_type": "markdown",
      "source": [
        "**Chapter 10: Classes and Object-Oriented Programming**\n",
        "\n",
        "Jenna Sementkowski"
      ],
      "metadata": {
        "id": "VRh1QG8cvuFo"
      }
    },
    {
      "cell_type": "markdown",
      "source": [
        "***Programming Exercises***"
      ],
      "metadata": {
        "id": "8rcnPj2HwCEA"
      }
    },
    {
      "cell_type": "markdown",
      "source": [
        "Question 3:\n",
        "\n",
        "\n",
        "*  Asks us to design a class that holds the following personal data: name, address, age, and phone number. Write appropriate accessor and mutator methods.\n",
        "*   Also, write a program that creates 3 instances of the class. Using fake information.\n",
        "\n"
      ],
      "metadata": {
        "id": "jFC3WrQ8wcDp"
      }
    },
    {
      "cell_type": "code",
      "source": [
        "#define the person class\n",
        "class Person:\n",
        "  def __init__(self, name, address, age, phone_number):\n",
        "    self._name = name\n",
        "    self._address = address\n",
        "    self._age = age\n",
        "    self._phone_number = phone_number\n",
        "\n",
        "    #now we enter in our accessor methods for each\n",
        "    #name:\n",
        "    def get_name(self):\n",
        "      return self._name\n",
        "\n",
        "    #address:\n",
        "    def get_address(self):\n",
        "      return self._address\n",
        "\n",
        "    #age:\n",
        "    def get_age(self):\n",
        "      return self._age\n",
        "\n",
        "    #phone number:\n",
        "    def get_phone_number(self):\n",
        "      return self._phone_number\n",
        "\n",
        "    #now we are going to be entering in our mutator methods\n",
        "\n",
        "    #set name:\n",
        "    def set_name(self, name):\n",
        "      self._name = name\n",
        "\n",
        "    #set address:\n",
        "    def set_address(self, address):\n",
        "      self._address = address\n",
        "\n",
        "    #set age\n",
        "    def set_age(self, age):\n",
        "      self._age = age\n",
        "\n",
        "    #set phone number:\n",
        "    def set_phone_number(self, phone_number):\n",
        "      self._phone_number = phone_number\n",
        "\n",
        "\n",
        "\n",
        "\n",
        ""
      ],
      "metadata": {
        "colab": {
          "base_uri": "https://localhost:8080/",
          "height": 140
        },
        "id": "tqYBBjzSxETR",
        "outputId": "aaadc7bb-7c12-438d-af10-74227b646128"
      },
      "execution_count": 6,
      "outputs": [
        {
          "output_type": "error",
          "ename": "SyntaxError",
          "evalue": "ignored",
          "traceback": [
            "\u001b[0;36m  File \u001b[0;32m\"<ipython-input-6-6eb79a533a3c>\"\u001b[0;36m, line \u001b[0;32m37\u001b[0m\n\u001b[0;31m    def set_age(self, age)\u001b[0m\n\u001b[0m                          ^\u001b[0m\n\u001b[0;31mSyntaxError\u001b[0m\u001b[0;31m:\u001b[0m expected ':'\n"
          ]
        }
      ]
    }
  ]
}