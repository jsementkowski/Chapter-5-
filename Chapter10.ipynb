{
  "nbformat": 4,
  "nbformat_minor": 0,
  "metadata": {
    "colab": {
      "provenance": [],
      "authorship_tag": "ABX9TyOmClkc691zxSVfxAh+inCE",
      "include_colab_link": true
    },
    "kernelspec": {
      "name": "python3",
      "display_name": "Python 3"
    },
    "language_info": {
      "name": "python"
    }
  },
  "cells": [
    {
      "cell_type": "markdown",
      "metadata": {
        "id": "view-in-github",
        "colab_type": "text"
      },
      "source": [
        "<a href=\"https://colab.research.google.com/github/jsementkowski/Chapter-5-/blob/main/Chapter10.ipynb\" target=\"_parent\"><img src=\"https://colab.research.google.com/assets/colab-badge.svg\" alt=\"Open In Colab\"/></a>"
      ]
    },
    {
      "cell_type": "markdown",
      "source": [
        "**Chapter 10: Classes and Object-Oriented Programming**\n",
        "\n",
        "Jenna Sementkowski"
      ],
      "metadata": {
        "id": "VRh1QG8cvuFo"
      }
    },
    {
      "cell_type": "markdown",
      "source": [
        "***Programming Exercises***"
      ],
      "metadata": {
        "id": "8rcnPj2HwCEA"
      }
    },
    {
      "cell_type": "markdown",
      "source": [
        "Question 3:\n",
        "\n",
        "\n",
        "*  Asks us to design a class that holds the following personal data: name, address, age, and phone number. Write appropriate accessor and mutator methods.\n",
        "*   Also, write a program that creates 3 instances of the class. Using fake information.\n",
        "\n"
      ],
      "metadata": {
        "id": "jFC3WrQ8wcDp"
      }
    },
    {
      "cell_type": "code",
      "source": [
        "#define the person class\n",
        "class Person:\n",
        "  def __init__(self, name, address, age, phone_number):\n",
        "    self._name = name\n",
        "    self._address = address\n",
        "    self._age = age\n",
        "    self._phone_number = phone_number\n",
        "\n",
        "  #now we enter in our accessor methods for each\n",
        "  #name:\n",
        "  def get_name(self):\n",
        "    return self._name\n",
        "\n",
        "  #address:\n",
        "  def get_address(self):\n",
        "      return self._address\n",
        "\n",
        "  #age:\n",
        "  def get_age(self):\n",
        "    return self._age\n",
        "\n",
        "    #phone number:\n",
        "  def get_phone_number(self):\n",
        "    return self._phone_number\n",
        "\n",
        "  #now we are going to be entering in our mutator methods\n",
        "\n",
        "  #set name:\n",
        "  def set_name(self, name):\n",
        "    self._name = name\n",
        "\n",
        "  #set address:\n",
        "  def set_address(self, address):\n",
        "    self._address = address\n",
        "\n",
        "  #set age\n",
        "  def set_age(self, age):\n",
        "    self._age = age\n",
        "\n",
        "  #set phone number:\n",
        "  def set_phone_number(self, phone_number):\n",
        "    self._phone_number = phone_number\n",
        "\n",
        "#program to create the instances of the person class\n",
        "def main():\n",
        "\n",
        "  #creating three instances with fictional information\n",
        "  person1 = Person(\"Bob Smith\", \"1234 Delta Dr\", 45, \"248-555-0909\")\n",
        "  person2 = Person(\"Katie Bob\", \"3434 Water Ave\", 19, \"586-790-0110\")\n",
        "  person3 = Person(\"Joe Little\", \"786 Beach St\", 25, \"800-300-6789\")\n",
        "\n",
        "  #properly display the information for each person like asked\n",
        "  print(\"Person 1:\")\n",
        "  print(\"Name:\", person1.get_name())\n",
        "  print(\"Address:\", person1.get_address())\n",
        "  print(\"Age:\", person1.get_age())\n",
        "  print(\"Phone Number:\", person1.get_phone_number())\n",
        "  print()\n",
        "\n",
        "  #repeat for the second person, copy and paste just change the person number\n",
        "  print(\"Person 2:\")\n",
        "  print(\"Name:\", person2.get_name())\n",
        "  print(\"Address:\", person2.get_address())\n",
        "  print(\"Age:\", person2.get_age())\n",
        "  print(\"Phone Number:\", person2.get_phone_number())\n",
        "  print()\n",
        "\n",
        "  #again for the last person\n",
        "  print(\"Person 3:\")\n",
        "  print(\"Name:\", person3.get_name())\n",
        "  print(\"Address:\", person3.get_address())\n",
        "  print(\"Age:\", person3.get_age())\n",
        "  print(\"Phone Number:\", person3.get_phone_number())\n",
        "  print()\n",
        "\n",
        "#now we have finished and put in proper order\n",
        "#get our main to print out our result.\n",
        "if __name__ == \"__main__\":\n",
        "  main()"
      ],
      "metadata": {
        "colab": {
          "base_uri": "https://localhost:8080/"
        },
        "id": "tqYBBjzSxETR",
        "outputId": "a357cce8-afe0-4c9a-a011-0b87f4f97913"
      },
      "execution_count": 16,
      "outputs": [
        {
          "output_type": "stream",
          "name": "stdout",
          "text": [
            "Person 1:\n",
            "Name: Bob Smith\n",
            "Address: 1234 Delta Dr\n",
            "Age: 45\n",
            "Phone Number: 248-555-0909\n",
            "\n",
            "Person 2:\n",
            "Name: Katie Bob\n",
            "Address: 3434 Water Ave\n",
            "Age: 19\n",
            "Phone Number: 586-790-0110\n",
            "\n",
            "Person 3:\n",
            "Name: Joe Little\n",
            "Address: 786 Beach St\n",
            "Age: 25\n",
            "Phone Number: 800-300-6789\n",
            "\n"
          ]
        }
      ]
    },
    {
      "cell_type": "markdown",
      "source": [
        "This question was quite the challenge for me as I had my alignments incorrect. So my code was running fine until the end. It was not assigning the names due to the issue of being in the wrong alignment. I fixed this issue along with a few small syntax errors along the way. This question went smooth as it is similar to the coding shown in this chapters reading."
      ],
      "metadata": {
        "id": "_xv2tEB794cz"
      }
    },
    {
      "cell_type": "markdown",
      "source": [
        "Question 7:\n",
        "\n",
        "\n",
        "*  Asks us to create a program that stores employee objects in a dictionary. Using the employee ID number as the key.\n",
        "* Should present the actions of: looking up an employee in the dictionary, add new employee, change existing employees name, department, and job in the title, and delete an employee.\n",
        "*  When the program ends, it should pickle the dictionary and save it to a file. As we used to work on a few chapters back."
      ],
      "metadata": {
        "id": "cxQLBNcb818n"
      }
    },
    {
      "cell_type": "code",
      "source": [
        "from ast import Load\n",
        "#first we have to import our pickle so it will pickle our dictionary in the end\n",
        "import pickle\n",
        "import os\n",
        "\n",
        "#assuming we have the employee class from exercise 4:\n",
        "class Employee:\n",
        "  def __init__(self, name, department, job_title):\n",
        "    self.name= name\n",
        "    self.department = department\n",
        "    self.job_title = job_title\n",
        "\n",
        "#function to display the menu and preform the actions\n",
        "def menu():\n",
        "  employees = load_employees()\n",
        "\n",
        "  #while true\n",
        "  while True:\n",
        "    #print the menu\n",
        "    print(\"\\nEmployee Management System Menu:\")\n",
        "    print(\"1. Look up an employee\")\n",
        "    print(\"2. Add a new employee\")\n",
        "    print(\"3. Change an employee's information\")\n",
        "    print(\"4. Delete an employee\")\n",
        "    print(\"5. Exit\")\n",
        "\n",
        "    #prompt the user to now enter their choice:\n",
        "    choice = input(\"Enter your choice (1-5): \")\n",
        "\n",
        "    #set up the response depending on users input answer\n",
        "    if choice == \"1\":\n",
        "      lookup_employee(employees)\n",
        "    elif choice == \"2\":\n",
        "      add_employee(employees)\n",
        "    elif choice == \"3\":\n",
        "      change_employee(employees)\n",
        "    elif choice == \"4\":\n",
        "      delete_employee(employees)\n",
        "    elif choice == \"5\":\n",
        "      save_employees(employees)\n",
        "      break\n",
        "    else:\n",
        "      print(\"Invalid choice. (1-5).\")\n",
        "\n",
        "#funtion to load the employees from a file or return an empty dictionary\n",
        "def load_employees():\n",
        "  if os.path.exists(\"employees.pkl\"):\n",
        "    with open(\"employees.pkl\", \"rb\") as file:\n",
        "      return pickle.load(file)\n",
        "\n",
        "  else:\n",
        "    return {}\n",
        "\n",
        "#funtion to save employees to a file\n",
        "def save_employees(employees):\n",
        "  with open(\"employees.pkl\", \"wb\") as file:\n",
        "    pickle.dump(employees, file)\n",
        "  print(\"Employees data saved.\")\n",
        "\n",
        "#function to look up an employee by ID\n",
        "def lookup_employee(employees):\n",
        "  employee_id = input(\"Enter employee ID: \")\n",
        "  employee = employees.get(employee_id)\n",
        "\n",
        "  if employee:\n",
        "    print(f\"Employee ID: {employee_id}\")\n",
        "    print(f\"Name: {employee.name}\")\n",
        "    print(f\"Department: {employee.department}\")\n",
        "    print(f\"Job Title: {employee.job_title}\")\n",
        "  else:\n",
        "    print(\"Employee not found.\")\n",
        "\n",
        "#function to add a new employee\n",
        "def add_employee(employees):\n",
        "  employee_id = input(\"Enter employee ID: \")\n",
        "  name = input(\"Enter employee name: \")\n",
        "  department = input(\"Enter department: \")\n",
        "  job_title = input(\"Enter job title: \")\n",
        "\n",
        "  new_employee = Employee(name, department, job_title)\n",
        "  employees[employee_id] = new_employee\n",
        "\n",
        "  print(\"Employee added successfully.\")\n",
        "\n",
        "#funtion to change an employee's information\n",
        "def change_employee(employees):\n",
        "  employee_id = input(\"Enter employee ID to update: \")\n",
        "  employee = employees.get(employee_id)\n",
        "\n",
        "  if employee:\n",
        "    employee.name = input(\"Enter new name: \")\n",
        "    employee.department = input(\"Enter new department: \")\n",
        "    employee.job_title = input(\"Enter new job title: \")\n",
        "    print(\"Employee information updated\")\n",
        "  else:\n",
        "    print(\"Employee not found.\")\n",
        "\n",
        "#function to delete an employee\n",
        "def delete_employee(employees):\n",
        "  employee_id = input(\"Enter employee ID to delete: \")\n",
        "\n",
        "  if employee_id in employees:\n",
        "    del employees[employee_id]\n",
        "    print(\"Employee deleted successfully.\")\n",
        "  else:\n",
        "    print(\"Employee not found.\")\n",
        "\n",
        "#main program\n",
        "if __name__ == \"__main__\":\n",
        "    menu()"
      ],
      "metadata": {
        "id": "UkYrq0TL-enw"
      },
      "execution_count": null,
      "outputs": []
    },
    {
      "cell_type": "markdown",
      "source": [
        "This one was a challenge for me as well with the alignment. Although I only used the internet for a couple of smaller questions."
      ],
      "metadata": {
        "id": "dvocSrI_HSk9"
      }
    }
  ]
}