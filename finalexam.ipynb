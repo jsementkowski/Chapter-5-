{
  "nbformat": 4,
  "nbformat_minor": 0,
  "metadata": {
    "colab": {
      "provenance": [],
      "authorship_tag": "ABX9TyPFikUF1LgPgwVYrt7jNpKv",
      "include_colab_link": true
    },
    "kernelspec": {
      "name": "python3",
      "display_name": "Python 3"
    },
    "language_info": {
      "name": "python"
    }
  },
  "cells": [
    {
      "cell_type": "markdown",
      "metadata": {
        "id": "view-in-github",
        "colab_type": "text"
      },
      "source": [
        "<a href=\"https://colab.research.google.com/github/jsementkowski/Chapter-5-/blob/main/finalexam.ipynb\" target=\"_parent\"><img src=\"https://colab.research.google.com/assets/colab-badge.svg\" alt=\"Open In Colab\"/></a>"
      ]
    },
    {
      "cell_type": "markdown",
      "source": [
        "**Final Exam Practical**\n",
        "\n",
        "Jenna Sementkowski"
      ],
      "metadata": {
        "id": "i0dk3xtjr2C8"
      }
    },
    {
      "cell_type": "markdown",
      "source": [
        "***Question 1***\n"
      ],
      "metadata": {
        "id": "riprKMIKr9_4"
      }
    },
    {
      "cell_type": "code",
      "source": [
        "\n",
        "\"Hello, little people of Earth!\"\n",
        "\n",
        "greetings = input(\"Enter the length of the string: \")\n",
        "length_of_string = len(greetings)\n",
        "print(\"Length of the string:\", length_of_string)\n",
        "\n",
        "is_divisible = length_of_string % 5 == 0\n",
        "print(\"Is the length divisible by 5?\", is_divisible)\n",
        "\n",
        "new_greeting = greetings.strip()\n",
        "print(\"New string wihtout spaces at the end or beginning of the string:\", new_greeting)\n",
        "\n",
        "five_characters = new_greeting[:5]\n",
        "print(\"First 5 characters of the string:\", five_characters)\n",
        "\n",
        "append_string = five_characters + \"o\" * 59\n",
        "print(\"Result after appending 59 o charaters:\", append_string)\n",
        "\n",
        "\n"
      ],
      "metadata": {
        "colab": {
          "base_uri": "https://localhost:8080/"
        },
        "id": "ps_s8X9vucCR",
        "outputId": "2d8b4611-c0d7-4b37-b6c6-049f53d9118e"
      },
      "execution_count": 8,
      "outputs": [
        {
          "output_type": "stream",
          "name": "stdout",
          "text": [
            "Enter the length of the string: 2\n",
            "Length of the string: 1\n",
            "Is the length divisible by 5? False\n",
            "New string wihtout spaces at the end or beginning of the string: 2\n",
            "First 5 characters of the string: 2\n",
            "Result after appending 59 o charaters: 2ooooooooooooooooooooooooooooooooooooooooooooooooooooooooooo\n"
          ]
        }
      ]
    },
    {
      "cell_type": "markdown",
      "source": [
        "***Question 2***"
      ],
      "metadata": {
        "id": "qbc4jTTxsBuM"
      }
    },
    {
      "cell_type": "code",
      "source": [
        "def wow_kazow(number):\n",
        "  if number % 5 == 0 and number % 7 == 0:\n",
        "    return \"wowkazow\"\n",
        "  elif number % 5 == 0:\n",
        "    return \"wow\"\n",
        "  else:\n",
        "    return number\n",
        "\n",
        "def main():\n",
        "  for num in range(41,90):\n",
        "    result = wow_kazow(num)\n",
        "    print(f\"{num}: {result}\")\n"
      ],
      "metadata": {
        "id": "OyjpAeNAxGIP"
      },
      "execution_count": 18,
      "outputs": []
    },
    {
      "cell_type": "markdown",
      "source": [
        "***Question 3***"
      ],
      "metadata": {
        "id": "3RhKEhfzyz3f"
      }
    },
    {
      "cell_type": "code",
      "source": [
        "class Eyewear:\n",
        "  def __init__(self, color, price, prescription):\n",
        "    self.color = color\n",
        "    self.price = price\n",
        "    self.prescription = prescription\n",
        "\n",
        "  def display_shown(self):\n",
        "    print(f\"Color: {self.color}\")\n",
        "    print(f\"Price: {self.price}\")\n",
        "    print(f\"Prescription: {self.prescription}\")\n",
        "\n",
        "\n",
        "\n",
        "\n"
      ],
      "metadata": {
        "id": "XL4HSfeqy2q5"
      },
      "execution_count": 20,
      "outputs": []
    }
  ]
}