{
  "nbformat": 4,
  "nbformat_minor": 0,
  "metadata": {
    "colab": {
      "provenance": [],
      "authorship_tag": "ABX9TyObT/GUm/KRoR6tehg/lUm3",
      "include_colab_link": true
    },
    "kernelspec": {
      "name": "python3",
      "display_name": "Python 3"
    },
    "language_info": {
      "name": "python"
    }
  },
  "cells": [
    {
      "cell_type": "markdown",
      "metadata": {
        "id": "view-in-github",
        "colab_type": "text"
      },
      "source": [
        "<a href=\"https://colab.research.google.com/github/jsementkowski/Chapter-5-/blob/main/finalexam.ipynb\" target=\"_parent\"><img src=\"https://colab.research.google.com/assets/colab-badge.svg\" alt=\"Open In Colab\"/></a>"
      ]
    },
    {
      "cell_type": "markdown",
      "source": [
        "**Final Exam Practical**\n",
        "\n",
        "Jenna Sementkowski"
      ],
      "metadata": {
        "id": "i0dk3xtjr2C8"
      }
    },
    {
      "cell_type": "markdown",
      "source": [
        "***Question 1***\n"
      ],
      "metadata": {
        "id": "riprKMIKr9_4"
      }
    },
    {
      "cell_type": "markdown",
      "source": [
        "***Question 2***"
      ],
      "metadata": {
        "id": "qbc4jTTxsBuM"
      }
    },
    {
      "cell_type": "code",
      "source": [
        "\n",
        "#\"  Hello, little people of Earth!      \"\n",
        "\n",
        "greetings = input(\"Enter the length of the string: \")\n",
        "length_of_string = len(greetings)\n",
        "print(\"Length of the string:\", length_of_string)\n",
        "\n",
        "is_divisible = length_of_string % 5 == 0\n",
        "print(\"Is the length divisible by 5?\", is_divisible)\n",
        "\n",
        "new_greeting = greetings.strip()\n",
        "print(\"New string wihtout spaces at the end or beginning of the string:\", new_greeting)\n",
        "\n",
        "five_characters = new_greeting[:5]\n",
        "print(\"First 5 characters of the string:\", five_characters)\n",
        "\n",
        "\n"
      ],
      "metadata": {
        "colab": {
          "base_uri": "https://localhost:8080/"
        },
        "id": "ps_s8X9vucCR",
        "outputId": "334153de-a634-4a9a-9ebb-b1e73fd64aee"
      },
      "execution_count": 4,
      "outputs": [
        {
          "output_type": "stream",
          "name": "stdout",
          "text": [
            "Enter the length of the string: 3\n",
            "Length of the string: 1\n",
            "Is the length divisible by 5? False\n",
            "New string wihtout spaces at the end or beginning of the string: 3\n",
            "First 5 characters of the string: 3\n"
          ]
        }
      ]
    }
  ]
}