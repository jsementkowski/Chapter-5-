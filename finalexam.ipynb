{
  "nbformat": 4,
  "nbformat_minor": 0,
  "metadata": {
    "colab": {
      "provenance": [],
      "authorship_tag": "ABX9TyMWHxFehqjhi6JBr5l2KVaA",
      "include_colab_link": true
    },
    "kernelspec": {
      "name": "python3",
      "display_name": "Python 3"
    },
    "language_info": {
      "name": "python"
    }
  },
  "cells": [
    {
      "cell_type": "markdown",
      "metadata": {
        "id": "view-in-github",
        "colab_type": "text"
      },
      "source": [
        "<a href=\"https://colab.research.google.com/github/jsementkowski/Chapter-5-/blob/main/finalexam.ipynb\" target=\"_parent\"><img src=\"https://colab.research.google.com/assets/colab-badge.svg\" alt=\"Open In Colab\"/></a>"
      ]
    },
    {
      "cell_type": "markdown",
      "source": [
        "**Final Exam Practical**\n",
        "\n",
        "Jenna Sementkowski"
      ],
      "metadata": {
        "id": "i0dk3xtjr2C8"
      }
    },
    {
      "cell_type": "markdown",
      "source": [
        "***Question 1***\n"
      ],
      "metadata": {
        "id": "riprKMIKr9_4"
      }
    },
    {
      "cell_type": "markdown",
      "source": [
        "***Question 2***"
      ],
      "metadata": {
        "id": "qbc4jTTxsBuM"
      }
    },
    {
      "cell_type": "code",
      "source": [
        "\n",
        "#\"  Hello, little people of Earth!      \"\n",
        "\n",
        "greetings = input(\"Enter the length of the string: \")\n",
        "length_of_string = len(greetings)\n",
        "print(\"Length of the string:\", length_of_string)\n",
        "\n",
        "is_divisible = length_of_string % 5 == 0\n",
        "print(\"Is the length divisible by 5?\", is_divisible)\n",
        "\n"
      ],
      "metadata": {
        "colab": {
          "base_uri": "https://localhost:8080/"
        },
        "id": "ps_s8X9vucCR",
        "outputId": "c8043c65-1de4-4772-9177-fa559f7c57af"
      },
      "execution_count": 2,
      "outputs": [
        {
          "output_type": "stream",
          "name": "stdout",
          "text": [
            "Enter the length of the string: 2\n",
            "Length of the string: 1\n",
            "Is the length divisible by 5? False\n"
          ]
        }
      ]
    }
  ]
}