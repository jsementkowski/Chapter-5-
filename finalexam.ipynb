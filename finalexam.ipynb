{
  "nbformat": 4,
  "nbformat_minor": 0,
  "metadata": {
    "colab": {
      "provenance": [],
      "authorship_tag": "ABX9TyODjHjRi92PAV0mBWiQh8Nq",
      "include_colab_link": true
    },
    "kernelspec": {
      "name": "python3",
      "display_name": "Python 3"
    },
    "language_info": {
      "name": "python"
    }
  },
  "cells": [
    {
      "cell_type": "markdown",
      "metadata": {
        "id": "view-in-github",
        "colab_type": "text"
      },
      "source": [
        "<a href=\"https://colab.research.google.com/github/jsementkowski/Chapter-5-/blob/main/finalexam.ipynb\" target=\"_parent\"><img src=\"https://colab.research.google.com/assets/colab-badge.svg\" alt=\"Open In Colab\"/></a>"
      ]
    },
    {
      "cell_type": "markdown",
      "source": [
        "**Final Exam Practical**\n",
        "\n",
        "Jenna Sementkowski"
      ],
      "metadata": {
        "id": "i0dk3xtjr2C8"
      }
    },
    {
      "cell_type": "markdown",
      "source": [
        "***Question 1***"
      ],
      "metadata": {
        "id": "riprKMIKr9_4"
      }
    },
    {
      "cell_type": "markdown",
      "source": [
        "***Question 2***"
      ],
      "metadata": {
        "id": "qbc4jTTxsBuM"
      }
    }
  ]
}