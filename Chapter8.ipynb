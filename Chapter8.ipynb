{
  "nbformat": 4,
  "nbformat_minor": 0,
  "metadata": {
    "colab": {
      "provenance": [],
      "authorship_tag": "ABX9TyNdLX4q+bwpab8xnzHsKGa/",
      "include_colab_link": true
    },
    "kernelspec": {
      "name": "python3",
      "display_name": "Python 3"
    },
    "language_info": {
      "name": "python"
    }
  },
  "cells": [
    {
      "cell_type": "markdown",
      "metadata": {
        "id": "view-in-github",
        "colab_type": "text"
      },
      "source": [
        "<a href=\"https://colab.research.google.com/github/jsementkowski/Chapter-5-/blob/main/Chapter8.ipynb\" target=\"_parent\"><img src=\"https://colab.research.google.com/assets/colab-badge.svg\" alt=\"Open In Colab\"/></a>"
      ]
    },
    {
      "cell_type": "markdown",
      "source": [
        "**Chapter 8: More About Strings**\n",
        "\n",
        "Jenna Sementkowski"
      ],
      "metadata": {
        "id": "_qtqDEcLfwaN"
      }
    },
    {
      "cell_type": "markdown",
      "source": [
        "***Algorithm Workbench***"
      ],
      "metadata": {
        "id": "6HQyHPVof6RR"
      }
    },
    {
      "cell_type": "markdown",
      "source": [
        "Question 2:\n",
        "\n",
        "\n",
        "*  Asks us to write a loop that counts the number of space characters that appear in the string referenced by mystring."
      ],
      "metadata": {
        "id": "ihnj1iHagAED"
      }
    },
    {
      "cell_type": "code",
      "source": [
        "#assign something to be counted\n",
        "count_spaces = \"My name is Jenna\"\n",
        "\n",
        "#start at zero\n",
        "count_of_spaces = 0\n",
        "\n",
        "# for loop each character in the string\n",
        "for character in count_spaces:\n",
        "\n",
        "    #check if the character is a space\n",
        "    if character == ' ':\n",
        "        #count if it is a space\n",
        "        count_of_spaces += 1\n",
        "\n",
        "#print the final number of spaces\n",
        "print(\"Number of spaces:\", count_of_spaces)"
      ],
      "metadata": {
        "colab": {
          "base_uri": "https://localhost:8080/"
        },
        "id": "KZ0PXdIIgc9Q",
        "outputId": "3c88a95f-8b01-4649-83f0-a7773e9a1b7b"
      },
      "execution_count": 6,
      "outputs": [
        {
          "output_type": "stream",
          "name": "stdout",
          "text": [
            "Number of spaces: 3\n"
          ]
        }
      ]
    },
    {
      "cell_type": "markdown",
      "source": [
        "Question 3:\n",
        "\n",
        "\n",
        "*   Write a loop that counts the number of digits that appear in the string referenced by mystring.\n"
      ],
      "metadata": {
        "id": "HHkSsG_OhFo5"
      }
    },
    {
      "cell_type": "code",
      "source": [
        "def count_digits(input_string):\n",
        "\n",
        "    # create a counter for digits\n",
        "    digit_count = 0\n",
        "\n",
        "    #for loop for each character in the string\n",
        "    for char in input_string:\n",
        "\n",
        "        #see if the character is a digit\n",
        "        if char.isdigit():\n",
        "\n",
        "            #count the digit\n",
        "            digit_count += 1\n",
        "\n",
        "    return digit_count\n",
        "\n",
        "input_str = \"My favorite number is 1000.\"\n",
        "result = count_digits(input_str)\n",
        "\n",
        "#print the final number of digits in the string.\n",
        "print(f\"The number of digits in the string is: {result}\")\n"
      ],
      "metadata": {
        "colab": {
          "base_uri": "https://localhost:8080/"
        },
        "id": "bzoXzGAPhTEJ",
        "outputId": "dbd9ccc5-dbc9-4d2f-ba39-7e1e5c01f829"
      },
      "execution_count": 12,
      "outputs": [
        {
          "output_type": "stream",
          "name": "stdout",
          "text": [
            "The number of digits in the string is: 4\n"
          ]
        }
      ]
    },
    {
      "cell_type": "markdown",
      "source": [
        "***Programming Exercises***"
      ],
      "metadata": {
        "id": "CZo4cAYtiD-1"
      }
    },
    {
      "cell_type": "markdown",
      "source": [
        "Question 1:\n",
        "\n",
        "\n",
        "*   Asks us to write a program that gets a string containing a person's first, middle, and last names, and displays their first, middle, and last initialsls."
      ],
      "metadata": {
        "id": "1NnqeUQViQLr"
      }
    },
    {
      "cell_type": "code",
      "source": [
        "def display_initials(full_name):\n",
        "    #split the full name\n",
        "    names = full_name.split()\n",
        "\n",
        "    #create empty strings for initials\n",
        "    first_initial = \"\"\n",
        "    middle_initial = \"\"\n",
        "    last_initial = \"\"\n",
        "\n",
        "    #get and capitalize the first letter of each name\n",
        "    if names:\n",
        "        first_initial = names[0][0].upper()\n",
        "\n",
        "    if len(names) > 1:\n",
        "        middle_initial = names[1][0].upper()\n",
        "\n",
        "    if len(names) > 2:\n",
        "        last_initial = names[-1][0].upper()\n",
        "\n",
        "    #display all of the initals\n",
        "    print(f\"{first_initial}. {middle_initial}. {last_initial}.\")\n",
        "\n",
        "#my sample name\n",
        "sample_name = \"Jenna Lyn Sementkowski\"\n",
        "\n",
        "#display the initials for my name\n",
        "display_initials(sample_name)\n"
      ],
      "metadata": {
        "colab": {
          "base_uri": "https://localhost:8080/"
        },
        "id": "PN0C1GaBimXV",
        "outputId": "9ad66b76-f021-4a0f-d9b1-8ca31d43c64d"
      },
      "execution_count": 14,
      "outputs": [
        {
          "output_type": "stream",
          "name": "stdout",
          "text": [
            "J. L. S.\n"
          ]
        }
      ]
    },
    {
      "cell_type": "markdown",
      "source": [
        "Question 2:\n",
        "\n",
        "\n",
        "*  Write a program that asks the user to enter a series of single-digit numbers with nothing separating them. The program should display the sum of all the single digit numbers in the string.\n",
        "\n"
      ],
      "metadata": {
        "id": "HL_3fopklDg3"
      }
    },
    {
      "cell_type": "code",
      "source": [
        "def single_digits(input_string):\n",
        "    total_sum = 0\n",
        "\n",
        "    for char in input_string:\n",
        "        #see if the character is a digit\n",
        "        if char.isdigit():\n",
        "            #convert the character to an integer and add to the total sum\n",
        "            total_sum += int(char)\n",
        "\n",
        "    return total_sum\n",
        "\n",
        "#get user input\n",
        "user_input = input(\"Enter a series of single-digit numbers with nothing separating them: \")\n",
        "\n",
        "#calculate and display the sum of single digits\n",
        "result = single_digits(user_input)\n",
        "print(\"Sum of single digits is:\", result)\n"
      ],
      "metadata": {
        "colab": {
          "base_uri": "https://localhost:8080/"
        },
        "id": "g-jB8A7IlEJW",
        "outputId": "9a5a95f1-a48b-433b-f4d7-6bbb8b77e206"
      },
      "execution_count": 24,
      "outputs": [
        {
          "output_type": "stream",
          "name": "stdout",
          "text": [
            "Enter a series of single-digit numbers with nothing separating them: 2300\n",
            "Sum of single digits is: 5\n"
          ]
        }
      ]
    },
    {
      "cell_type": "markdown",
      "source": [
        "Question 3:\n",
        "\n",
        "\n",
        "*   Write a program that reads a string from the user contatining a date in the form mm/dd/yyyy. It should print the date in the format March 12, 2018."
      ],
      "metadata": {
        "id": "y3qa21acjWBz"
      }
    },
    {
      "cell_type": "code",
      "source": [
        "#ask user for bday input\n",
        "date_input = input(\"Enter a date in the format mm/dd/yyyy: \")\n",
        "\n",
        "#split the date into month, day, and year\n",
        "month, day, year = map(int, date_input.split('/'))\n",
        "\n",
        "#define month names\n",
        "month_names = [\n",
        "    \"January\", \"February\", \"March\", \"April\", \"May\", \"June\",\n",
        "    \"July\", \"August\", \"September\", \"October\", \"November\", \"December\"\n",
        "]\n",
        "\n",
        "#get the month name from input\n",
        "month_name = month_names[month - 1]\n",
        "\n",
        "#finally print the date\n",
        "formatted_date = f\"{month_name} {day}, {year}\"\n",
        "print(\"Formatted date:\", formatted_date)"
      ],
      "metadata": {
        "colab": {
          "base_uri": "https://localhost:8080/"
        },
        "id": "u8MU1AV-jmrX",
        "outputId": "8ff7fa47-49bd-4fc8-9a87-f8116e7fe42d"
      },
      "execution_count": 17,
      "outputs": [
        {
          "output_type": "stream",
          "name": "stdout",
          "text": [
            "Enter a date in the format mm/dd/yyyy: 11/26/2004\n",
            "Formatted date: November 26, 2004\n"
          ]
        }
      ]
    },
    {
      "cell_type": "markdown",
      "source": [
        "Question 10:\n",
        "\n",
        "\n",
        "*   Write the program that lets the user enter a string and displays the character that appears the most frequently in the string."
      ],
      "metadata": {
        "id": "q5wPFbRBoyz_"
      }
    },
    {
      "cell_type": "code",
      "source": [
        "def frequent_char(input_string):\n",
        "    #to store characters\n",
        "    char_freq = {}\n",
        "\n",
        "    #count the frequency of each character from input\n",
        "    for char in input_string:\n",
        "        if char in char_freq:\n",
        "            char_freq[char] += 1\n",
        "        else:\n",
        "            char_freq[char] = 1\n",
        "\n",
        "    #find character with the maximum frequency\n",
        "    most_frequent = max(char_freq, key=char_freq.get)\n",
        "\n",
        "    return most_frequent\n",
        "\n",
        "#get the input from the user\n",
        "input_string = input(\"Enter a string: \")\n",
        "\n",
        "#call the function to find the most frequent character\n",
        "result = frequent_char(input_string)\n",
        "\n",
        "#print the most frequent character\n",
        "print(\"The most frequent character is:\", result)\n"
      ],
      "metadata": {
        "colab": {
          "base_uri": "https://localhost:8080/"
        },
        "id": "RAIMf2a3n57a",
        "outputId": "40979b58-2a04-4615-e8bf-77e90298f4cc"
      },
      "execution_count": 33,
      "outputs": [
        {
          "output_type": "stream",
          "name": "stdout",
          "text": [
            "Enter a string: 909090909090999\n",
            "The most frequent character is: 9\n"
          ]
        }
      ]
    }
  ]
}