{
  "nbformat": 4,
  "nbformat_minor": 0,
  "metadata": {
    "colab": {
      "provenance": [],
      "authorship_tag": "ABX9TyMwgulkL3pWxWWq3lbK1va8",
      "include_colab_link": true
    },
    "kernelspec": {
      "name": "python3",
      "display_name": "Python 3"
    },
    "language_info": {
      "name": "python"
    }
  },
  "cells": [
    {
      "cell_type": "markdown",
      "metadata": {
        "id": "view-in-github",
        "colab_type": "text"
      },
      "source": [
        "<a href=\"https://colab.research.google.com/github/jsementkowski/Chapter-5-/blob/main/Chapter7.ipynb\" target=\"_parent\"><img src=\"https://colab.research.google.com/assets/colab-badge.svg\" alt=\"Open In Colab\"/></a>"
      ]
    },
    {
      "cell_type": "markdown",
      "source": [
        "**Chapter 7: Lists and Tuples**\n",
        "\n",
        "Jenna Sementkowski\n"
      ],
      "metadata": {
        "id": "WRoJMG5TugSR"
      }
    },
    {
      "cell_type": "markdown",
      "source": [
        "***Algorithm Workbench***"
      ],
      "metadata": {
        "id": "zptf3ek8urSm"
      }
    },
    {
      "cell_type": "markdown",
      "source": [
        "Question 1:\n",
        "\n",
        "\n",
        "*   Asks us to write a statement that creates a list.\n",
        "*   Using the following strings: 'Einstein', 'Newton', 'Copernicus', and 'Kepler'\n"
      ],
      "metadata": {
        "id": "tvbckkHJu_hu"
      }
    },
    {
      "cell_type": "code",
      "source": [
        "#create a list using the strings given\n",
        "\n",
        "scientists = ['Einstein', 'Newton', 'Copernicus', 'Kepler']\n",
        "\n",
        "#this creates a list using the strings given from the book\n",
        "\n",
        "#this was easy!!\n",
        "\n"
      ],
      "metadata": {
        "id": "TPawhv1avhi-"
      },
      "execution_count": null,
      "outputs": []
    },
    {
      "cell_type": "markdown",
      "source": [
        "Question 2:\n",
        "\n",
        "\n",
        "*   Asks us to assume names reference a list.\n",
        "*   Write a for loop that displays each element of the list.\n",
        "\n"
      ],
      "metadata": {
        "id": "I6HhrHuhwTnw"
      }
    },
    {
      "cell_type": "code",
      "source": [
        "#create name list containing strings\n",
        "\n",
        "#defining the list of names\n",
        "names = ['Jenna', 'Zoe', 'Kendall', 'Charley']\n",
        "\n",
        "#write for loop that displays each element of the list\n",
        "\n",
        "for name in names:\n",
        "  print(name)\n",
        "\n",
        "#this properly prints out the names string that was created\n",
        "\n",
        "# I enjoy using lists containing strings\n",
        "\n"
      ],
      "metadata": {
        "colab": {
          "base_uri": "https://localhost:8080/"
        },
        "id": "H-KWyA5LyAEl",
        "outputId": "218c8f24-ffbd-4d43-bb56-bb1a9c5e3b26"
      },
      "execution_count": 1,
      "outputs": [
        {
          "output_type": "stream",
          "name": "stdout",
          "text": [
            "Jenna\n",
            "Zoe\n",
            "Kendall\n",
            "Charley\n"
          ]
        }
      ]
    },
    {
      "cell_type": "markdown",
      "source": [
        "***Programming Exercises***"
      ],
      "metadata": {
        "id": "y3H5AWpiyz8r"
      }
    },
    {
      "cell_type": "markdown",
      "source": [
        "Question 1:\n",
        "\n",
        "\n",
        "*   Asks us to design a program that asks the user to enter a store's sales for each day of the week.\n",
        "*   The amounts should be stored in a list.\n",
        "*   Use a loop to calculate the total sales for the week and display the result.\n",
        "\n",
        "\n",
        "\n",
        "\n"
      ],
      "metadata": {
        "id": "mPM_R-Oq06nF"
      }
    },
    {
      "cell_type": "code",
      "source": [
        "#create an empty list for something to be entered in the sales per day\n",
        "\n",
        "sales_day = []\n",
        "\n",
        "#write for loop that asks the user to enter sales for each day\n",
        "\n",
        "for day in range(7):\n",
        "\n",
        "  #prompt the user to enter sales for current day \\\n",
        "\n",
        "  daily_sale = float(input(f\"Enter sales for day {day + 1}: $\"))\n",
        "\n",
        "  #then add the daily sales to the list\n",
        "  sales_day.append(daily_sale)\n",
        "\n",
        "#calculate the total sales for the week\n",
        "\n",
        "#using the sum function\n",
        "\n",
        "total_sale = sum(sales_day)\n",
        "\n",
        "#then print the total sales for the week\n",
        "\n",
        "print(f\"Total sales for the week: ${total_sale}\")\n",
        "\n",
        "#this properly prints out the total sales per week"
      ],
      "metadata": {
        "colab": {
          "base_uri": "https://localhost:8080/"
        },
        "id": "4ymhB9sH1lRX",
        "outputId": "bf8e9864-99a7-469d-a7d7-2a32f9d21cec"
      },
      "execution_count": 3,
      "outputs": [
        {
          "output_type": "stream",
          "name": "stdout",
          "text": [
            "Enter sales for day 1: $10\n",
            "Enter sales for day 2: $20\n",
            "Enter sales for day 3: $30\n",
            "Enter sales for day 4: $40\n",
            "Enter sales for day 5: $50\n",
            "Enter sales for day 6: $60\n",
            "Enter sales for day 7: $70\n",
            "Total sales for the week: $280.0\n"
          ]
        }
      ]
    },
    {
      "cell_type": "markdown",
      "source": [
        "Question 14:\n",
        "\n",
        "\n",
        "*   Create a text file that contains your expenses for last month in the following categories: rent, gas, food, clothing, car payment, and misc.\n",
        "*   Asks us to write a python program that reads the data from the file and uses MATPLOTLIB to plot a pue chart showing how you spend your money.\n",
        "\n"
      ],
      "metadata": {
        "id": "6zI7R0q4257c"
      }
    },
    {
      "cell_type": "code",
      "source": [
        "# Import the matplotlib libraries\n",
        "import matplotlib.pyplot as plt\n",
        "\n",
        "# create the variables to store category names and corresponding expenses\n",
        "categories = {}\n",
        "expenses = {}\n",
        "\n",
        "#read data from the file\n",
        "\n",
        "# open and read the expenses.txt file that was just created\n",
        "with open('expenses.txt', 'r') as file:\n",
        "    for line in file:\n",
        "        # Split each line into category and expense\n",
        "        category, expense = line.strip().split(': ')\n",
        "        categories.append(category)\n",
        "        expenses.append(float(expense))\n",
        "\n",
        "# create a pie chart using Matplotlib like asked in the book\n",
        "# create a pie chart\n",
        "\n",
        "plt.figure(figsize=(8, 8))\n",
        "plt.pie(expenses, labels=categories, autopct='%1.1f%%', startangle=140)\n",
        "plt.title('Monthly Expenses')\n",
        "\n",
        "#i got this from chat gpt because i could not figure out how to properly create the pie chart\n",
        "\n",
        "# display the pie chart\n",
        "plt.show()\n",
        "\n",
        "#i do not understand how to get the expenses.txt to work as i keep getting a syntax error\n",
        "\n",
        "#i tried to use chat gpt to help me with my code as well and i could not figrue it out past this point but i tried.\n"
      ],
      "metadata": {
        "id": "kq40xMlJ4GGQ"
      },
      "execution_count": null,
      "outputs": []
    },
    {
      "cell_type": "markdown",
      "source": [
        "Question 3:\n",
        "\n",
        "\n",
        "*  Asks us to design a program that lets the user enter the total rainfall for each of 12 months into a list.\n",
        "*   The program should calculate and display the total rainfall for the year, the average monthly rainfall, the months with the highest and lowest amounts.\n",
        "\n"
      ],
      "metadata": {
        "id": "DnOdm_z17fco"
      }
    },
    {
      "cell_type": "code",
      "source": [
        "#create a list to store monthly rainfall data\n",
        "\n",
        "rainfall_data = []\n",
        "\n",
        "#get input for each months rainfall\n",
        "\n",
        "for month in range(1, 13):\n",
        "    while True:\n",
        "        try:\n",
        "            rainfall = float(input(f\"Enter the total rainfall for month {month}: \"))\n",
        "            if rainfall < 0:\n",
        "                print(\"Rainfall cannot be negative. Please enter a non-negative value.\")\n",
        "            else:\n",
        "                rainfall_data.append(rainfall)\n",
        "                break\n",
        "        except ValueError:\n",
        "            print(\"Invalid input. Please enter a valid number.\")\n",
        "\n",
        "            #used chat gpt for the else and except statement because i could not get the alignment correct\n",
        "\n",
        "#then calculate total and average rainfall\n",
        "\n",
        "total_rainfall = sum(rainfall_data)\n",
        "average_rainfall = total_rainfall / 12\n",
        "\n",
        "#find the month with the highest and lowest rainfall\n",
        "#out of the 12 months\n",
        "\n",
        "max_rainfall = max(rainfall_data)\n",
        "min_rainfall = min(rainfall_data)\n",
        "months = [\"January\", \"February\", \"March\", \"April\", \"May\", \"June\", \"July\", \"August\", \"September\", \"October\", \"November\", \"December\"]\n",
        "month_with_max_rainfall = months[rainfall_data.index(max_rainfall)]\n",
        "month_with_min_rainfall = months[rainfall_data.index(min_rainfall)]\n",
        "\n",
        "#finally print out the total rainfall for the year\n",
        "#print average monthly rainfall\n",
        "#print the month with the highest rainfall\n",
        "#print the month with the lowest rainfall\n",
        "\n",
        "print(f\"Total rainfall for the year: {total_rainfall} inches\")\n",
        "print(f\"Average monthly rainfall: {average_rainfall} inches\")\n",
        "print(f\"Month with the highest rainfall: {month_with_max_rainfall} ({max_rainfall} inches)\")\n",
        "print(f\"Month with the lowest rainfall: {month_with_min_rainfall} ({min_rainfall} inches)\")\n",
        "\n",
        "#this properly runs like the book exactly asked!!"
      ],
      "metadata": {
        "colab": {
          "base_uri": "https://localhost:8080/"
        },
        "id": "D9X8mjqe7To7",
        "outputId": "aab6a836-afd9-45b0-c3ca-8883cd00b8a3"
      },
      "execution_count": 7,
      "outputs": [
        {
          "output_type": "stream",
          "name": "stdout",
          "text": [
            "Enter the total rainfall for month 1: 6\n",
            "Enter the total rainfall for month 2: 8\n",
            "Enter the total rainfall for month 3: 9\n",
            "Enter the total rainfall for month 4: 0\n",
            "Enter the total rainfall for month 5: 3\n",
            "Enter the total rainfall for month 6: 6\n",
            "Enter the total rainfall for month 7: 4\n",
            "Enter the total rainfall for month 8: 3\n",
            "Enter the total rainfall for month 9: 2\n",
            "Enter the total rainfall for month 10: 6\n",
            "Enter the total rainfall for month 11: 7\n",
            "Enter the total rainfall for month 12: 7\n",
            "Total rainfall for the year: 61.0 inches\n",
            "Average monthly rainfall: 5.083333333333333 inches\n",
            "Month with the highest rainfall: March (9.0 inches)\n",
            "Month with the lowest rainfall: April (0.0 inches)\n"
          ]
        }
      ]
    },
    {
      "cell_type": "markdown",
      "source": [
        "Question 4:\n",
        "\n",
        "\n",
        "*   Asks us tot design a program that asks the user to enter a series of 20 numbers.\n",
        "*   The program should store the numbers in a list then display the following data: the lowest number in the list, the highest number in the list, tht total of the numbers in the list, and the average of the numbers in the list.\n",
        "\n"
      ],
      "metadata": {
        "id": "wa9nu9tV-Mr_"
      }
    },
    {
      "cell_type": "code",
      "source": [
        "#create an empty list to store the numbers\n",
        "numbers = []\n",
        "\n",
        "#get the input for 20 numbers using the range function\n",
        "for i in range(1, 21):\n",
        "    while True:\n",
        "        try:\n",
        "            number = float(input(f\"Enter number {i}: \"))\n",
        "            numbers.append(number)\n",
        "            break\n",
        "        except ValueError:\n",
        "            print(\"Invalid input. Please enter a valid number.\")\n",
        "\n",
        "#calculate and display the lowest, highest, total, and average\n",
        "lowest = min(numbers)\n",
        "highest = max(numbers)\n",
        "total = sum(numbers)\n",
        "average = total / len(numbers)\n",
        "\n",
        "#lastly print the lowest number in the list\n",
        "#print the highest number in the list\n",
        "#print the total number in the list\n",
        "#and print the average of the numbers in the list\n",
        "\n",
        "print(f\"Lowest number in the list: {lowest}\")\n",
        "print(f\"Highest number in the list: {highest}\")\n",
        "print(f\"Total of the numbers in the list: {total}\")\n",
        "print(f\"Average of the numbers in the list: {average}\")\n",
        "\n",
        "#this is a very long code/asking for alot of inputs\n",
        "\n",
        "#this properly prints like how the book asked"
      ],
      "metadata": {
        "colab": {
          "base_uri": "https://localhost:8080/"
        },
        "id": "xsQAynjT8xUs",
        "outputId": "6e6f9c37-5277-4d86-d70b-a3cfaa99973c"
      },
      "execution_count": 8,
      "outputs": [
        {
          "output_type": "stream",
          "name": "stdout",
          "text": [
            "Enter number 1: 2\n",
            "Enter number 2: 3\n",
            "Enter number 3: 4\n",
            "Enter number 4: 5\n",
            "Enter number 5: 6\n",
            "Enter number 6: 7\n",
            "Enter number 7: 8\n",
            "Enter number 8: 45\n",
            "Enter number 9: 45\n",
            "Enter number 10: 45\n",
            "Enter number 11: 4\n",
            "Enter number 12: 45\n",
            "Enter number 13: \n",
            "Invalid input. Please enter a valid number.\n",
            "Enter number 13: 4\n",
            "Enter number 14: 4\n",
            "Enter number 15: 4\n",
            "Enter number 16: 4\n",
            "Enter number 17: 4\n",
            "Enter number 18: 4\n",
            "Enter number 19: 4\n",
            "Enter number 20: 4\n",
            "Lowest number in the list: 2.0\n",
            "Highest number in the list: 45.0\n",
            "Total of the numbers in the list: 251.0\n",
            "Average of the numbers in the list: 12.55\n"
          ]
        }
      ]
    }
  ]
}