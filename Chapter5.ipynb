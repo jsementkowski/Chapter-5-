{
  "nbformat": 4,
  "nbformat_minor": 0,
  "metadata": {
    "colab": {
      "provenance": [],
      "include_colab_link": true
    },
    "kernelspec": {
      "name": "python3",
      "display_name": "Python 3"
    },
    "language_info": {
      "name": "python"
    }
  },
  "cells": [
    {
      "cell_type": "markdown",
      "metadata": {
        "id": "view-in-github",
        "colab_type": "text"
      },
      "source": [
        "<a href=\"https://colab.research.google.com/github/jsementkowski/Chapter-5-/blob/main/Chapter5.ipynb\" target=\"_parent\"><img src=\"https://colab.research.google.com/assets/colab-badge.svg\" alt=\"Open In Colab\"/></a>"
      ]
    },
    {
      "cell_type": "markdown",
      "source": [
        "**Chapter 5: Functions**\n",
        "**Jenna Sementkowski**"
      ],
      "metadata": {
        "id": "UiVamY5gK7LU"
      }
    },
    {
      "cell_type": "markdown",
      "source": [
        "***Algorithm Workbench Problems:***"
      ],
      "metadata": {
        "id": "WPqAuR_PLZH3"
      }
    },
    {
      "cell_type": "markdown",
      "source": [
        "Question 1:\n",
        "\n",
        "\n",
        "*   Asks us to write a function named times_ten.\n",
        "*   The function should accept an argument and display the product of its argument multiplied times 10.\n",
        "\n"
      ],
      "metadata": {
        "id": "A37ngpXLMLc5"
      }
    },
    {
      "cell_type": "code",
      "source": [
        "#create function for times_ten\n",
        "def times_ten(number):\n",
        "  #make it so the number chosen is multiplied by 10\n",
        "  result = number * 10\n",
        "  #print out the results of the function.\n",
        "  print(result)\n",
        "\n",
        "#this shows how to multiply a number times 10 using functions.\n"
      ],
      "metadata": {
        "id": "svFdzL8dP0t4"
      },
      "execution_count": null,
      "outputs": []
    },
    {
      "cell_type": "markdown",
      "source": [
        "Question 6:\n",
        "\n",
        "\n",
        "*   Asks us to write a statement that generates a random number.\n",
        "*   In the range of 1 through 100 and assigns it to a variable named rand.\n",
        "\n"
      ],
      "metadata": {
        "id": "7jd2GKHKRCf5"
      }
    },
    {
      "cell_type": "code",
      "source": [
        "#first we need to import a random number\n",
        "import random\n",
        "#asks us to use the variable named \"rand\"\n",
        "#make sure its in the range of 1 through 100.\n",
        "rand = random.randint(1,100)\n",
        "print(rand)\n",
        "#the print statement will print the random number in the range asked.\n",
        "\n"
      ],
      "metadata": {
        "colab": {
          "base_uri": "https://localhost:8080/"
        },
        "id": "8kG90cNsReBZ",
        "outputId": "ded330e4-f652-43f0-af9e-047bed1076c6"
      },
      "execution_count": null,
      "outputs": [
        {
          "output_type": "stream",
          "name": "stdout",
          "text": [
            "53\n"
          ]
        }
      ]
    },
    {
      "cell_type": "markdown",
      "source": [
        "***Programming Exercises:***"
      ],
      "metadata": {
        "id": "x4_NxsrfSY3b"
      }
    },
    {
      "cell_type": "markdown",
      "source": [
        "Question 1- Kilometer Converter:\n",
        "\n",
        "\n",
        "*   Asks us to write a program that asks the user to enter a distance in kilometers.\n",
        "*   Then uses a function to convert that distance to miles. The conversion formula given to us from the book: **Miles = Kilometers * 0.6214**\n",
        "\n"
      ],
      "metadata": {
        "id": "k7yeOFOGSj8S"
      }
    },
    {
      "cell_type": "code",
      "source": [
        "#create a function to covert the kilometers to miles\n",
        "def kilo_to_mile(kilo):\n",
        "  #use the function given in the book to convert.\n",
        "  mile = kilo * 0.6214\n",
        "  #return the function\n",
        "  return mile\n",
        "  #now we need to prompt the user to enter a distance in kilometers\n",
        "\n",
        "distance_kilo = float(input(\"Enter a distance in kilometers: \"))\n",
        "#now we need to show what we are plugging to see an output\n",
        "distance_miles = kilo_to_mile(distance_kilo)\n",
        "print(f\"{distance_kilo} kilometers is equal to {distance_miles} miles.\")\n",
        "\n",
        "#this outputs the kilometers to meters and shows & runs each value entered."
      ],
      "metadata": {
        "colab": {
          "base_uri": "https://localhost:8080/"
        },
        "id": "mtKkFtN3TyKM",
        "outputId": "4d375f01-d3e4-4872-8ce1-6e591ea2ee5f"
      },
      "execution_count": null,
      "outputs": [
        {
          "output_type": "stream",
          "name": "stdout",
          "text": [
            "Enter a distance in kilometers: 2\n",
            "2.0 kilometers is equal to 1.2428 miles.\n"
          ]
        }
      ]
    },
    {
      "cell_type": "markdown",
      "source": [
        "\n",
        "\n",
        "\n",
        "Question 4- Automobile Costs:\n",
        "\n",
        "\n",
        "*   Asks us to write a program that asks the user to enter their monthly costs for the following expenses incurred from operating their automobile: loan payment, insurance, gas, oil, tires, and maintenance.  \n",
        "*   The program should then display the total monthly cost of these expenses, and the total annual cost of these expenses.\n",
        "\n"
      ],
      "metadata": {
        "id": "z4dkZKTreUaV"
      }
    },
    {
      "cell_type": "code",
      "source": [
        "#prompt user to enter monthly loan payment\n",
        "loan_payment = float(input(\"Enter monthly loan payment: $\"))\n",
        "\n",
        "#prompt user to enter monthly insurance cost\n",
        "insurance = float(input(\"Enter monthly insurance cost: $\"))\n",
        "\n",
        "#prompt user to enter monthly insurance cost\n",
        "gas = float(input(\"Enter monthly gas cost: $\"))\n",
        "\n",
        "#prompt user to enter monthly oil cost\n",
        "oil = float(input(\"Enter monthly oil cost: $\"))\n",
        "\n",
        "#prompt user to enter monthly tire cost\n",
        "tires = float(input(\"Enter monthly tire cost: $\"))\n",
        "\n",
        "#prompt user to enter monthly maintenance cost\n",
        "maintenance = float(input(\"Enter monthly maintenance cost: $\"))\n",
        "\n",
        "# calculate total monthly and annual costs\n",
        "total_monthly_cost = loan_payment + insurance + gas + oil + tires + maintenance\n",
        "total_annual_cost = total_monthly_cost * 12\n",
        "# multiply monthly cost by 12 for annual cost\n",
        "\n",
        "#print the total monthly costs all added all together\n",
        "print(\"\\nTotal Monthly Cost: $\", total_monthly_cost)\n",
        "\n",
        "#print the annual cost for expenses\n",
        "print(\"Total Annual Cost: $\", total_annual_cost)\n"
      ],
      "metadata": {
        "colab": {
          "base_uri": "https://localhost:8080/"
        },
        "id": "WBQgzrx7fh6K",
        "outputId": "489a3c7d-c7e7-4bdf-fff2-367d1503d90b"
      },
      "execution_count": null,
      "outputs": [
        {
          "output_type": "stream",
          "name": "stdout",
          "text": [
            "Enter monthly loan payment: $23\n",
            "Enter monthly insurance cost: $23\n",
            "Enter monthly gas cost: $23\n",
            "Enter monthly oil cost: $23\n",
            "Enter monthly tire cost: $23\n",
            "Enter monthly maintenance cost: $23\n",
            "\n",
            "Total Monthly Cost: $ 138.0\n",
            "Total Annual Cost: $ 1656.0\n"
          ]
        }
      ]
    },
    {
      "cell_type": "markdown",
      "source": [
        "Question 16- Prime Numbers:\n",
        "\n",
        "\n",
        "*   Asks us to write a boolean function names is_prime which times an integer as an argument and returns true if the argument is a prime number, or false otherwise.\n",
        "*   Use the function in a program that prompts the user to enter a number then displays a message indicating whether the number is prime.\n",
        "\n"
      ],
      "metadata": {
        "id": "b1PRsKKYWEu0"
      }
    },
    {
      "cell_type": "code",
      "source": [
        "#have user enter number\n",
        "num = int(input(\"Enter a number: \"))\n",
        "#first we need to create a function for the function name given.\n",
        "def is_prime(num):\n",
        "  #if number is less than 1 the statment is false\n",
        "  if num <= 1:\n",
        "    return False\n",
        "  if num <= 3:\n",
        "    return True\n",
        "  #now we need to use the % operator\n",
        "  if num % 2 == 0 or num % 3 == 0:\n",
        "    return False\n",
        "    #these would be false because they are not prime numbers\n",
        "\n",
        "  integer = 5\n",
        "#sep up so that it skips to the prime numbers\n",
        "#if not a prime number its false like so:\n",
        "  while integer * integer <= num:\n",
        "    if num % integer == 0 or num % (integer + 2) == 0:\n",
        "      return False\n",
        "\n",
        "      #now showing how to get the acutal prime number\n",
        "    integer += 6\n",
        "    return True\n",
        "#i think this is the proper way to indicate if a number is prime or not.\n"
      ],
      "metadata": {
        "colab": {
          "base_uri": "https://localhost:8080/"
        },
        "id": "sGjTCwXhWzD0",
        "outputId": "54a5192b-39e1-4425-cf2f-34f60dcd465a"
      },
      "execution_count": null,
      "outputs": [
        {
          "name": "stdout",
          "output_type": "stream",
          "text": [
            "Enter a number: 2\n"
          ]
        }
      ]
    },
    {
      "cell_type": "markdown",
      "source": [
        "Question 17- Prime Number List:\n",
        "\n",
        "\n",
        "*   The book states: this exercise assumes that you have already written the is_prime function in question 16.\n",
        "*   Write another program that displays all of the prime numbers from 1 to 100. The program should have a loop that calls the is_prime function.\n",
        "\n"
      ],
      "metadata": {
        "id": "-7-VZ3Xbagqw"
      }
    },
    {
      "cell_type": "code",
      "source": [
        "# Function to check if a number is prime\n",
        "def is_prime(num):\n",
        "  #if statement to return false if less than 1.\n",
        "    if num <= 1:\n",
        "        return False\n",
        "\n",
        "    for i in range(2, int(num**0.5) + 1):\n",
        "        if num % i == 0:\n",
        "            return False\n",
        "    return True\n",
        "\n",
        "#for each number in the range from 1 to 100:\n",
        "for number in range(1, 101):\n",
        "    #calling our function to check and see if the number is prime or not\n",
        "    if is_prime(number):\n",
        "    #if the number is prime, then print.\n",
        "        print(number, end=\" \")\n",
        "        # Printing the prime number on the same line\n",
        "\n",
        "print()\n",
        "#then will print out a list of the prime numbers up until 100.\n"
      ],
      "metadata": {
        "colab": {
          "base_uri": "https://localhost:8080/"
        },
        "id": "17ejdjH_bYnk",
        "outputId": "3d689c4f-9b57-4bf2-8e2d-fb04fe73e43c"
      },
      "execution_count": null,
      "outputs": [
        {
          "output_type": "stream",
          "name": "stdout",
          "text": [
            "2 3 5 7 11 13 17 19 23 29 31 37 41 43 47 53 59 61 67 71 73 79 83 89 97 \n"
          ]
        }
      ]
    },
    {
      "cell_type": "markdown",
      "source": [
        "I was stuck on this problem for a very long time. I tried not to use chat GPT but i honestly was not sure how to set this one up. I used chat GPT to help me set up this problem correctly. Its a great resource for coding."
      ],
      "metadata": {
        "id": "kxFNhA0Ldv38"
      }
    }
  ]
}