{
  "nbformat": 4,
  "nbformat_minor": 0,
  "metadata": {
    "colab": {
      "provenance": [],
      "authorship_tag": "ABX9TyO7DjvBqcBcOjBCt4zlcG5v",
      "include_colab_link": true
    },
    "kernelspec": {
      "name": "python3",
      "display_name": "Python 3"
    },
    "language_info": {
      "name": "python"
    }
  },
  "cells": [
    {
      "cell_type": "markdown",
      "metadata": {
        "id": "view-in-github",
        "colab_type": "text"
      },
      "source": [
        "<a href=\"https://colab.research.google.com/github/jsementkowski/Chapter-5-/blob/main/Chpater11.ipynb\" target=\"_parent\"><img src=\"https://colab.research.google.com/assets/colab-badge.svg\" alt=\"Open In Colab\"/></a>"
      ]
    },
    {
      "cell_type": "markdown",
      "source": [
        "**Chapter 11: Inheritance**\n",
        "\n",
        "Jenna Sementkowski"
      ],
      "metadata": {
        "id": "--SOxbj_TSNE"
      }
    },
    {
      "cell_type": "markdown",
      "source": [
        "***Programming Exercises***"
      ],
      "metadata": {
        "id": "PITNV3_dTa0q"
      }
    },
    {
      "cell_type": "markdown",
      "source": [
        "Question 1:\n",
        "\n",
        "\n",
        "* Asks us to write a program that keeps data attributes: Employee name and Employee number.\n",
        "* Next write a class names productionworker that is a subclass of the emplyee class. The prodcutionworker class should keep data attributes of shift number and hourly pay.\n",
        "* The workday is divided into two shifts day and night.\n",
        "* Once you have written the classes, write a program that creates an object of the productionworker class and prompts the user to enter data for each of the objects data attributes. Store the data in the object and then use assesor methods ti retrieve and then display."
      ],
      "metadata": {
        "id": "srRpnRtmTdp8"
      }
    },
    {
      "cell_type": "code",
      "source": [
        "#asssign the employee class\n",
        "class Employee:\n",
        "  #initalizing the employee number\n",
        "  def __init__(self, employee_number):\n",
        "    self.employee_number = employee_number\n",
        "\n",
        "  #use accessor method for getting the employees number.\n",
        "  def get_employee_number(self):\n",
        "    return self.employee_number\n",
        "\n",
        "  #use the mutator method for setting the employee number\n",
        "  def set_employee_number(self, employee_number):\n",
        "    self.employee_number = employee_number\n",
        "\n",
        "#create productionworker class\n",
        "class ProductionWorker(Employee):\n",
        "  #initializing employee number, shift number, and hourly pay rate\n",
        "  def __init__(self, employee_number, shift_number, hourly_pay_rate):\n",
        "    #call the employee class\n",
        "    super().__init__(employee_number)\n",
        "    self.shift_number = shift_number\n",
        "    self.hourly_pay_rate = hourly_pay_rate\n",
        "\n",
        "  #accessor method for getting the shift number\n",
        "  def get_shift_number(self):\n",
        "    return self.shift_number\n",
        "\n",
        "  #mutator method for setting the shift number\n",
        "  def set_shift_number(self, shift_number):\n",
        "    self.shift_number = shift_number\n",
        "\n",
        "  #accessor method for getting the hourly pay rate\n",
        "  def get_hourly_pay_rate(self):\n",
        "    return self.hourly_pay_rate\n",
        "\n",
        "  #mutator method for setting up the hourly pay rate\n",
        "  def set_hourly_pay_rate(self, hourly_pay_rate):\n",
        "    self.hourly_pay_rate = hourly_pay_rate\n",
        "\n",
        "#set up the sample program\n",
        "def main():\n",
        "  #prompt the user for input on each.\n",
        "  employee_number = input(\"Enter employee number: \")\n",
        "  shift_number = int(input(\"Enter shift number (1 for day, 2 for night): \"))\n",
        "  hourly_pay_rate = float(input(\"Enter hourly pay rate: \"))\n",
        "\n",
        "  #create productionworker object\n",
        "  worker = ProductionWorker(employee_number, shift_number, hourly_pay_rate)\n",
        "\n",
        "  #display the entered data using the accesor methods\n",
        "  print(\"\\nEmployee Information: \")\n",
        "  print(\"Employee Number:\", worker.get_employee_number())\n",
        "  print(\"Shift Number:\", worker.get_shift_number())\n",
        "  print(\"Hourly Pat Rate:\", worker.get_hourly_pay_rate())\n",
        "\n",
        "#entry point of the program\n",
        "if __name__ == \"__main__\":\n",
        "  main()\n",
        "\n"
      ],
      "metadata": {
        "id": "7RGYJm3AUuSY"
      },
      "execution_count": null,
      "outputs": []
    },
    {
      "cell_type": "markdown",
      "source": [
        "***This problem overall was not too bad of a challenge for me as again, the book was a really good resource for me to guide myself through this problem as they are very similar examples***"
      ],
      "metadata": {
        "id": "B-lrxfaiZvIV"
      }
    },
    {
      "cell_type": "markdown",
      "source": [
        "Question 3:\n",
        "\n",
        "\n",
        "* Write a class named person with data attributes for a persons name, address, and telephone number. Next write a class names customer that is a subclass of the person class.\n",
        "* The customer class should have data attribute for a customer number, and a Boolean data attribute indicating whether the customer wishes to be on a mailing list.\n",
        "* Demonstrate an instance of the customer class in a simple program"
      ],
      "metadata": {
        "id": "G0I4pZjza_AG"
      }
    },
    {
      "cell_type": "code",
      "source": [
        "#create the class named person\n",
        "class Person:\n",
        "  def __init__(self, name, address, telephone_number):\n",
        "    self.name = name\n",
        "    self.address = address\n",
        "    self. telephone_number = telephone_number\n",
        "\n",
        "#create class named customer that is a subclass of the person class\n",
        "class Customer(Person):\n",
        "  def __init__(self, name, address, telephone_number, customer_number, on_mailing_list):\n",
        "    #call the base class (person)\n",
        "    super().__init__(name, address, telephone_number)\n",
        "\n",
        "    #the additional attributes for customer class\n",
        "    self.customer_number = customer_number\n",
        "    self.on_mailing_list = on_mailing_list\n",
        "\n",
        "#demonstrate an instance of customer class\n",
        "def main():\n",
        "  #creating customer instance\n",
        "  customer1 = Customer(\n",
        "      name = \"Jenna Semi\",\n",
        "      address = \"123 Grand River Dr\",\n",
        "      telephone_number = \"555-678-9900\",\n",
        "      customer_number = \"C56656\",\n",
        "      on_mailing_list = True\n",
        "  )\n",
        "\n",
        "  #accessing attributes of the customer\n",
        "  print(\"Customer Information:\")\n",
        "  print(\"Name:\", customer1.name)\n",
        "  print(\"Address:\", customer1.address)\n",
        "  print(\"Telephone Number:\", customer1.telephone_number)\n",
        "  print(\"Customer Number:\", customer1.customer_number)\n",
        "  print(\"On Mailing List:\", customer1.on_mailing_list)\n",
        "\n",
        "#run the main function\n",
        "if __name__ == \"__main__\":\n",
        "  main()"
      ],
      "metadata": {
        "colab": {
          "base_uri": "https://localhost:8080/"
        },
        "id": "j-_QT3NYb4zc",
        "outputId": "4beb2bb6-cf00-40f6-b857-9eb0ddb49362"
      },
      "execution_count": 31,
      "outputs": [
        {
          "output_type": "stream",
          "name": "stdout",
          "text": [
            "Customer Information:\n",
            "Name: Jenna Semi\n",
            "Address: 123 Grand River Dr\n",
            "Telephone Number: 555-678-9900\n",
            "Customer Number: C56656\n",
            "On Mailing List: True\n"
          ]
        }
      ]
    },
    {
      "cell_type": "markdown",
      "source": [
        "***As this problem was very similar to the one above. It was still good practice to get into the hang of using Inheritance!***"
      ],
      "metadata": {
        "id": "Osmgj5DfeahW"
      }
    }
  ]
}